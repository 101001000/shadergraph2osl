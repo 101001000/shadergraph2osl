{
 "cells": [
  {
   "cell_type": "markdown",
   "id": "53dd05fc-c9f1-41a0-b69c-5ce6a40dadee",
   "metadata": {},
   "source": [
    "# .ecore loading"
   ]
  },
  {
   "cell_type": "code",
   "execution_count": 44,
   "id": "11eef85c-cb1a-4e84-ba35-58aa0186eafa",
   "metadata": {},
   "outputs": [],
   "source": [
    "from pyecore.resources import ResourceSet, URI\n",
    "from pyecore.utils import DynamicEPackage\n",
    "import pyecore.behavior # This import adds the behavior decorator to EClass\n",
    "\n",
    "# Read the metamodel first\n",
    "rset = ResourceSet()\n",
    "osl_metamodel_root = rset.get_resource(URI('metamodels\\\\osl.ecore')).contents[0]\n",
    "blender_metamodel_root = rset.get_resource(URI('metamodels\\\\blender.ecore')).contents[0]\n",
    "\n",
    "# Register the metamodel (in case we open an XMI model later)\n",
    "rset.metamodel_registry[osl_metamodel_root.nsURI] = osl_metamodel_root\n",
    "rset.metamodel_registry[blender_metamodel_root.nsURI] = blender_metamodel_root\n",
    "\n",
    "# Get the metamodel helper\n",
    "osl_helper = DynamicEPackage(osl_metamodel_root)\n",
    "blender_helper = DynamicEPackage(blender_metamodel_root)"
   ]
  },
  {
   "cell_type": "markdown",
   "id": "8ce21368-851d-4637-8a04-0f7d93669a2f",
   "metadata": {},
   "source": [
    "# Blender mix material graph test"
   ]
  },
  {
   "cell_type": "code",
   "execution_count": 45,
   "id": "e6fa16bb-a6cf-43c3-9264-944254d0a8a5",
   "metadata": {},
   "outputs": [
    {
     "data": {
      "text/plain": [
       "bpy.data.materials['Mix Mat.003'].node_tree"
      ]
     },
     "execution_count": 45,
     "metadata": {},
     "output_type": "execute_result"
    }
   ],
   "source": [
    "import bpy\n",
    "\n",
    "# A material which will mix red with blue\n",
    "mix_mat = bpy.data.materials.new(name=\"Mix Mat\")\n",
    "mix_mat.use_nodes = True\n",
    "nodes = mix_mat.node_tree.nodes\n",
    "node_tree = mix_mat.node_tree\n",
    "\n",
    "node_mix = nodes.new(\"ShaderNodeMix\")\n",
    "node_princ = mix_mat.node_tree.nodes[\"Principled BSDF\"]\n",
    "\n",
    "node_rgb_red = nodes.new(\"ShaderNodeRGB\")\n",
    "node_rgb_red.outputs[\"Color\"].default_value = [1,0,0,1]\n",
    "\n",
    "node_rgb_blue = nodes.new(\"ShaderNodeRGB\")\n",
    "node_rgb_blue.outputs[\"Color\"].default_value = [0,0,1,1]\n",
    "\n",
    "node_tree.links.new(node_rgb_red.outputs[\"Color\"], node_mix.inputs[6])\n",
    "node_tree.links.new(node_rgb_blue.outputs[\"Color\"], node_mix.inputs[7])\n",
    "node_tree.links.new(node_mix.outputs[\"Result\"], node_princ.inputs[0])\n",
    "node_tree.links.new(node_princ.outputs[\"BSDF\"], node_tree.nodes['Material Output'].inputs['Surface'])"
   ]
  },
  {
   "cell_type": "markdown",
   "id": "ace57ccb-6123-4b83-83d1-07b7288d200a",
   "metadata": {},
   "source": [
    "# Blender material to dynamic blender metamodel instance"
   ]
  },
  {
   "cell_type": "code",
   "execution_count": 46,
   "id": "dbd2a123-6d01-4e6a-9241-2ad5d96adec8",
   "metadata": {},
   "outputs": [],
   "source": [
    "def mat2xmi(mat, blmm):\n",
    "    \n",
    "    graph_ins = blmm.getEClassifier('ShadingGraph')()\n",
    "\n",
    "    # A map from Blender instance to the dynamic instance\n",
    "    instance_mapping = dict()   \n",
    "    \n",
    "    #Generate instances store a mapping of them.\n",
    "    for node in mat.node_tree.nodes:\n",
    "        \n",
    "        node_ins = blmm.getEClassifier('ShadingNode')()\n",
    "        \n",
    "        node_generic_atts = ['__doc__', '__module__', '__slots__', 'bl_description', 'bl_height_default', 'bl_height_max', 'bl_height_min', 'bl_icon', 'bl_idname', 'bl_label', 'bl_rna', 'bl_static_type', 'bl_width_default', 'bl_width_max', 'bl_width_min', 'color', 'dimensions', 'draw_buttons', 'draw_buttons_ext', 'height', 'hide', 'input_template', 'inputs', 'internal_links', 'is_registered_node_type', 'label', 'location', 'mute', 'name', 'output_template', 'outputs', 'parent', 'poll', 'poll_instance', 'rna_type', 'select', 'show_options', 'show_preview', 'show_texture', 'socket_value_update', 'type', 'update', 'use_custom_color', 'width', 'width_hidden']\n",
    "        pending_atts = [x for x in dir(node) if x not in node_generic_atts]\n",
    "        \n",
    "        for att in pending_atts:\n",
    "            att_ins = blmm.getEClassifier('Attribute')()\n",
    "            att_ins.name = att\n",
    "            att_ins.value = getattr(node, att)\n",
    "            node_ins.attributes.append(att_ins)\n",
    "            instance_mapping[att] = att_ins\n",
    "        \n",
    "        for output_socket in node.outputs:\n",
    "            output_socket_ins = blmm.getEClassifier('OutputSocket')()\n",
    "            \n",
    "            for link in output_socket.links:\n",
    "                link_ins = blmm.getEClassifier('Link')()\n",
    "                output_socket_ins.links.append(link_ins)\n",
    "                instance_mapping[link] = link_ins\n",
    "            \n",
    "            node_ins.outputs.append(output_socket_ins)\n",
    "            instance_mapping[output_socket] = output_socket_ins\n",
    "            \n",
    "        for input_socket in node.inputs:\n",
    "            input_socket_ins = blmm.getEClassifier('InputSocket')()               \n",
    "            node_ins.inputs.append(input_socket_ins)\n",
    "            instance_mapping[input_socket] = input_socket_ins\n",
    "            \n",
    "        graph_ins.nodes.append(node_ins)\n",
    "        instance_mapping[node] = node_ins\n",
    "      \n",
    "    # Fill the data of those instances.\n",
    "    for node in mat.node_tree.nodes:\n",
    "        \n",
    "        node_ins = instance_mapping[node]\n",
    "        node_ins.bl_idname = node.bl_idname\n",
    "        node_ins.name = node.name\n",
    "                \n",
    "        for output_socket in node.outputs:\n",
    "            output_socket_ins = instance_mapping[output_socket]\n",
    "            \n",
    "            for link in output_socket.links:\n",
    "                                \n",
    "                link_ins = instance_mapping[link]\n",
    "                \n",
    "                link_ins.from_node = instance_mapping[link.from_node]\n",
    "                link_ins.to_node = instance_mapping[link.to_node]\n",
    "                link_ins.from_socket = instance_mapping[link.from_socket]\n",
    "                link_ins.to_socket = instance_mapping[link.to_socket]\n",
    "                \n",
    "            \n",
    "        for input_socket in node.inputs:\n",
    "            input_socket_ins = instance_mapping[input_socket]\n",
    "            \n",
    "            for link in input_socket.links:\n",
    "                link_ins = instance_mapping[link]\n",
    "                input_socket_ins.links = link_ins\n",
    "               \n",
    "        \n",
    "    return graph_ins\n",
    "\n",
    "xmi_mat = mat2xmi(mix_mat, blender_metamodel_root)"
   ]
  },
  {
   "cell_type": "markdown",
   "id": "bc3baed0-7008-44b5-8031-a82eadf64992",
   "metadata": {},
   "source": [
    "# M2M transformation"
   ]
  },
  {
   "cell_type": "code",
   "execution_count": 47,
   "id": "3c9d1cac-6406-41ef-97ec-ca008ca75b2a",
   "metadata": {},
   "outputs": [
    {
     "name": "stdout",
     "output_type": "stream",
     "text": [
      "Transforming blender to osl <pyecore.resources.xmi.XMIResource object at 0x000002700ABA9270>\n"
     ]
    }
   ],
   "source": [
    "# import motra for utils and for M2M transformation definition\n",
    "import motra\n",
    "from motra import m2m\n",
    "\n",
    "# M2M transformation \"signature\" definition\n",
    "blender2osl = m2m.Transformation('blender2osl',\n",
    "                                 inputs=['blender_model'],\n",
    "                                 outputs=['osl_model'])\n",
    "\n",
    "\n",
    "# defines the entry point of the transformation\n",
    "@blender2osl.main\n",
    "def main(blender_model, osl_model):\n",
    "    print('Transforming blender to osl', osl_model)\n",
    "    for g in motra.objects_of_kind(blender_model, blender_metamodel_root.getEClassifier('ShadingGraph')):\n",
    "        graph2group(g)\n",
    "\n",
    "\n",
    "@blender2osl.mapping\n",
    "def graph2group(self: blender_metamodel_root.getEClassifier('ShadingGraph')) -> osl_metamodel_root.getEClassifier('ShadingGroup'):\n",
    "    for node in self.nodes:\n",
    "        try:\n",
    "            result.shaders.append(node2shader(node))\n",
    "        except:\n",
    "            pass\n",
    "        \n",
    "\n",
    "\n",
    "def val(node, att):\n",
    "    for i in node.attributes:\n",
    "        if i.name == att:\n",
    "            return i.value\n",
    "    return None\n",
    " \n",
    "\n",
    "@blender2osl.mapping(when=lambda self: self.bl_idname == \"ShaderNodeRGB\")\n",
    "def node2shader(self: blender_metamodel_root.getEClassifier('ShadingNode')):\n",
    "    pass\n",
    "    #self.outputs[\"Color\"].to_node\n",
    "\n",
    "@blender2osl.mapping\n",
    "def node2shader(self: blender_metamodel_root.getEClassifier('ShadingNode')) -> osl_metamodel_root.getEClassifier('Shader'):\n",
    "        \n",
    "    base_mapping = dict()\n",
    "    \n",
    "    result.layername = self.name\n",
    "    \n",
    "    if self.bl_idname == 'ShaderNodeMix':\n",
    "        if val(self, \"data_type\") == 'COLOR':\n",
    "            result.shadername = 'node_mix_color'\n",
    "        elif val(self, \"data_type\")== 'FLOAT':\n",
    "            result.shadername = 'node_mix_float'\n",
    "        elif val(self, \"data_type\") == 'VECTOR':\n",
    "            if val(self, \"factor_mode\") == 'UNIFORM':\n",
    "                result.shadername = 'node_mix_vector'\n",
    "            elif val(self, \"factor_mode\") == 'NON_UNIFORM':\n",
    "                result.shadername = 'node_mix_vector_non_uniform'\n",
    "\n",
    "    \n",
    "result_context = blender2osl.run(blender_model=xmi_mat)\n",
    "result_context.inputs.blender_model.save(output=\"blender.xmi\")\n",
    "result_context.outputs.osl_model.save(output=\"osl.xmi\")"
   ]
  },
  {
   "cell_type": "markdown",
   "id": "3a5c7ca0-bfd7-4f51-8dc8-fdfcaf4c5105",
   "metadata": {},
   "source": [
    "# M2T Transformation"
   ]
  },
  {
   "cell_type": "code",
   "execution_count": 48,
   "id": "35e7683e-c3b0-46f9-95ac-a07b059eece2",
   "metadata": {},
   "outputs": [],
   "source": [
    "@osl_helper.ShadingGroup.behavior\n",
    "def serialize(self):\n",
    "    \n",
    "    serialized_str = \"\"\n",
    "    \n",
    "    for shader in self.shaders:\n",
    "        serialized_str += shader.serialize()\n",
    "        \n",
    "    for connections in self.connections:\n",
    "        serialized_str += connections.serialize()\n",
    "        \n",
    "    return serialized_str\n",
    "    \n",
    "@osl_helper.Shader.behavior\n",
    "def serialize(self):\n",
    "    \n",
    "    assignments_str = \"\"\n",
    "        \n",
    "    return assignments_str + 'shader \"' + str(self.shadername) + '\" \"' + str(self.layername) + '\"; \\n'\n",
    "    \n",
    "@osl_helper.Connection.behavior\n",
    "def serialize(self):\n",
    "    return \"connnection\""
   ]
  },
  {
   "cell_type": "markdown",
   "id": "75fb9f14-8b1e-4ed7-97a0-11e6bda8a455",
   "metadata": {},
   "source": [
    "# APPLY THE TRANSFORMATION"
   ]
  },
  {
   "cell_type": "code",
   "execution_count": 49,
   "id": "e1269230-a172-4513-aacf-7c96b5be1f6f",
   "metadata": {},
   "outputs": [
    {
     "name": "stdout",
     "output_type": "stream",
     "text": [
      "shader \"None\" \"Principled BSDF\"; \n",
      "shader \"None\" \"Material Output\"; \n",
      "shader \"node_mix_float\" \"Mix\"; \n",
      "\n"
     ]
    }
   ],
   "source": [
    "print(result_context.outputs.osl_model.contents[0].serialize())"
   ]
  },
  {
   "cell_type": "code",
   "execution_count": null,
   "id": "52ada3af-2369-4df8-ab01-e255ef6e8fcb",
   "metadata": {},
   "outputs": [],
   "source": []
  },
  {
   "cell_type": "code",
   "execution_count": null,
   "id": "d128d76b-a1ff-4704-8bcf-7961428fafa8",
   "metadata": {},
   "outputs": [],
   "source": []
  }
 ],
 "metadata": {
  "kernelspec": {
   "display_name": "Python 3 (ipykernel)",
   "language": "python",
   "name": "python3"
  },
  "language_info": {
   "codemirror_mode": {
    "name": "ipython",
    "version": 3
   },
   "file_extension": ".py",
   "mimetype": "text/x-python",
   "name": "python",
   "nbconvert_exporter": "python",
   "pygments_lexer": "ipython3",
   "version": "3.10.0"
  }
 },
 "nbformat": 4,
 "nbformat_minor": 5
}
